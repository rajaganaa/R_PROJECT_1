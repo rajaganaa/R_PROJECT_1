{
  "nbformat": 4,
  "nbformat_minor": 0,
  "metadata": {
    "colab": {
      "provenance": [],
      "authorship_tag": "ABX9TyNzhALihd0I1MbhJ9O3rh7a",
      "include_colab_link": true
    },
    "kernelspec": {
      "name": "python3",
      "display_name": "Python 3"
    },
    "language_info": {
      "name": "python"
    }
  },
  "cells": [
    {
      "cell_type": "markdown",
      "metadata": {
        "id": "view-in-github",
        "colab_type": "text"
      },
      "source": [
        "<a href=\"https://colab.research.google.com/github/rajaganaa/R_PROJECT_1/blob/main/SAMPLE%20QUESTIONS.ipynb\" target=\"_parent\"><img src=\"https://colab.research.google.com/assets/colab-badge.svg\" alt=\"Open In Colab\"/></a>"
      ]
    },
    {
      "cell_type": "code",
      "execution_count": null,
      "metadata": {
        "id": "iylAbT_A9mXW"
      },
      "outputs": [],
      "source": []
    },
    {
      "cell_type": "markdown",
      "source": [
        "SAMPLE QUESTIONS"
      ],
      "metadata": {
        "id": "MsA_ybXzugGl"
      }
    },
    {
      "cell_type": "code",
      "source": [
        "# 1.\tCreate a vector called stock.prices with the following data points: 23,27,23,21,34."
      ],
      "metadata": {
        "id": "-RbYisK-uyNl"
      },
      "execution_count": null,
      "outputs": []
    },
    {
      "cell_type": "code",
      "source": [
        "# Stock prices\n",
        "stock.prices = c(23, 27, 23, 21, 34)\n",
        "stock.prices\n",
        "\n",
        "# Logical vector for even numbers\n",
        "even.numbers = numbers %% 2 == 0  # Modulo operator for even check\n"
      ],
      "metadata": {
        "colab": {
          "base_uri": "https://localhost:8080/",
          "height": 34
        },
        "id": "FQSm1NFeuyQ9",
        "outputId": "e9d8d592-e8a5-4f85-d92c-ee7f4fbd4084"
      },
      "execution_count": null,
      "outputs": [
        {
          "output_type": "display_data",
          "data": {
            "text/html": [
              "<style>\n",
              ".list-inline {list-style: none; margin:0; padding: 0}\n",
              ".list-inline>li {display: inline-block}\n",
              ".list-inline>li:not(:last-child)::after {content: \"\\00b7\"; padding: 0 .5ex}\n",
              "</style>\n",
              "<ol class=list-inline><li>23</li><li>27</li><li>23</li><li>21</li><li>34</li></ol>\n"
            ],
            "text/markdown": "1. 23\n2. 27\n3. 23\n4. 21\n5. 34\n\n\n",
            "text/latex": "\\begin{enumerate*}\n\\item 23\n\\item 27\n\\item 23\n\\item 21\n\\item 34\n\\end{enumerate*}\n",
            "text/plain": [
              "[1] 23 27 23 21 34"
            ]
          },
          "metadata": {}
        }
      ]
    },
    {
      "cell_type": "code",
      "source": [
        "# 2.\tCreate a numeric vector containing the numbers 1 to 10.\n",
        "\n",
        "# Numbers 1 to 10\n",
        "numbers = 1:10\n",
        "numbers\n"
      ],
      "metadata": {
        "colab": {
          "base_uri": "https://localhost:8080/",
          "height": 34
        },
        "id": "qVmozIOU3dXd",
        "outputId": "e1251ca2-f0a5-4349-fd0a-abcbbed1a160"
      },
      "execution_count": null,
      "outputs": [
        {
          "output_type": "display_data",
          "data": {
            "text/html": [
              "<style>\n",
              ".list-inline {list-style: none; margin:0; padding: 0}\n",
              ".list-inline>li {display: inline-block}\n",
              ".list-inline>li:not(:last-child)::after {content: \"\\00b7\"; padding: 0 .5ex}\n",
              "</style>\n",
              "<ol class=list-inline><li>1</li><li>2</li><li>3</li><li>4</li><li>5</li><li>6</li><li>7</li><li>8</li><li>9</li><li>10</li></ol>\n"
            ],
            "text/markdown": "1. 1\n2. 2\n3. 3\n4. 4\n5. 5\n6. 6\n7. 7\n8. 8\n9. 9\n10. 10\n\n\n",
            "text/latex": "\\begin{enumerate*}\n\\item 1\n\\item 2\n\\item 3\n\\item 4\n\\item 5\n\\item 6\n\\item 7\n\\item 8\n\\item 9\n\\item 10\n\\end{enumerate*}\n",
            "text/plain": [
              " [1]  1  2  3  4  5  6  7  8  9 10"
            ]
          },
          "metadata": {}
        }
      ]
    },
    {
      "cell_type": "code",
      "source": [
        "# 3.\tCalculate the sum of these numbers.\n",
        "sum(numbers)\n"
      ],
      "metadata": {
        "colab": {
          "base_uri": "https://localhost:8080/",
          "height": 34
        },
        "id": "Rux4Lbmi3dT8",
        "outputId": "dec5ccda-f763-466a-a8e9-51bb9bdf1f1f"
      },
      "execution_count": null,
      "outputs": [
        {
          "output_type": "display_data",
          "data": {
            "text/html": [
              "55"
            ],
            "text/markdown": "55",
            "text/latex": "55",
            "text/plain": [
              "[1] 55"
            ]
          },
          "metadata": {}
        }
      ]
    },
    {
      "cell_type": "code",
      "source": [
        "# 4.\tCreate a logical vector indicating which numbers are even.\n",
        "# Logical vector for even numbers\n",
        "even.numbers = numbers %% 2 == 0  # Modulo operator for even check\n",
        "even.numbers"
      ],
      "metadata": {
        "colab": {
          "base_uri": "https://localhost:8080/",
          "height": 34
        },
        "id": "f9B3U2VU3dR0",
        "outputId": "d010bf2b-b4b0-43c8-9bef-7e4f22d43d05"
      },
      "execution_count": null,
      "outputs": [
        {
          "output_type": "display_data",
          "data": {
            "text/html": [
              "<style>\n",
              ".list-inline {list-style: none; margin:0; padding: 0}\n",
              ".list-inline>li {display: inline-block}\n",
              ".list-inline>li:not(:last-child)::after {content: \"\\00b7\"; padding: 0 .5ex}\n",
              "</style>\n",
              "<ol class=list-inline><li>FALSE</li><li>TRUE</li><li>FALSE</li><li>TRUE</li><li>FALSE</li><li>TRUE</li><li>FALSE</li><li>TRUE</li><li>FALSE</li><li>TRUE</li></ol>\n"
            ],
            "text/markdown": "1. FALSE\n2. TRUE\n3. FALSE\n4. TRUE\n5. FALSE\n6. TRUE\n7. FALSE\n8. TRUE\n9. FALSE\n10. TRUE\n\n\n",
            "text/latex": "\\begin{enumerate*}\n\\item FALSE\n\\item TRUE\n\\item FALSE\n\\item TRUE\n\\item FALSE\n\\item TRUE\n\\item FALSE\n\\item TRUE\n\\item FALSE\n\\item TRUE\n\\end{enumerate*}\n",
            "text/plain": [
              " [1] FALSE  TRUE FALSE  TRUE FALSE  TRUE FALSE  TRUE FALSE  TRUE"
            ]
          },
          "metadata": {}
        }
      ]
    },
    {
      "cell_type": "code",
      "source": [
        "# 5.\tUse the plot() function to create a scatter plot of the mtcars dataset, plotting mpg (miles per gallon) against hp (horsepower).\n",
        "library(ggplot2)  # Using ggplot2 for better customization\n",
        "\n",
        "ggplot(mtcars, aes(x = hp, y = mpg)) +\n",
        "  geom_point() +\n",
        "  labs(title = \"MPG vs. Horsepower\", x = \"Horsepower\", y = \"Miles per Gallon\")\n"
      ],
      "metadata": {
        "colab": {
          "base_uri": "https://localhost:8080/",
          "height": 437
        },
        "id": "_gmwDQ463dPv",
        "outputId": "bdad386a-0919-4c7d-f285-e0b74d996285"
      },
      "execution_count": null,
      "outputs": [
        {
          "output_type": "display_data",
          "data": {
            "text/plain": [
              "plot without title"
            ],
            "image/png": "[encoded data removed]"
          },
          "metadata": {
            "image/png": {
              "width": 420,
              "height": 420
            }
          }
        }
      ]
    },
    {
      "cell_type": "code",
      "source": [
        "# 6.\tGiven a vector a = c(\"a\", \"b\", \"c\", \"d\", \"e\"), extract the 2nd and 4th elements.\n",
        "a = c(\"a\", \"b\", \"c\", \"d\", \"e\")\n",
        "second_and_fourth = a[c(2, 4)]  # Output: c(\"b\", \"d\")\n",
        "second_and_fourth"
      ],
      "metadata": {
        "colab": {
          "base_uri": "https://localhost:8080/",
          "height": 34
        },
        "id": "YVHihIDB3dN8",
        "outputId": "1a7d2d4c-a034-44ab-b93f-cddcee9cb5bf"
      },
      "execution_count": null,
      "outputs": [
        {
          "output_type": "display_data",
          "data": {
            "text/html": [
              "<style>\n",
              ".list-inline {list-style: none; margin:0; padding: 0}\n",
              ".list-inline>li {display: inline-block}\n",
              ".list-inline>li:not(:last-child)::after {content: \"\\00b7\"; padding: 0 .5ex}\n",
              "</style>\n",
              "<ol class=list-inline><li>'b'</li><li>'d'</li></ol>\n"
            ],
            "text/markdown": "1. 'b'\n2. 'd'\n\n\n",
            "text/latex": "\\begin{enumerate*}\n\\item 'b'\n\\item 'd'\n\\end{enumerate*}\n",
            "text/plain": [
              "[1] \"b\" \"d\""
            ]
          },
          "metadata": {}
        }
      ]
    },
    {
      "cell_type": "code",
      "source": [
        "# 7.\tFrom the mtcars dataset, select the rows where cyl (cylinders) is 4 and only the columns mpg, hp, and wt.\n",
        "mtcars_sub = mtcars[mtcars$cyl == 4, c(\"mpg\", \"hp\", \"wt\")]\n",
        "mtcars_sub"
      ],
      "metadata": {
        "colab": {
          "base_uri": "https://localhost:8080/",
          "height": 443
        },
        "id": "4-l1cPW03dL1",
        "outputId": "1ac914c3-ff61-404f-e668-fbd6c8876e3a"
      },
      "execution_count": null,
      "outputs": [
        {
          "output_type": "display_data",
          "data": {
            "text/html": [
              "<table class=\"dataframe\">\n",
              "<caption>A data.frame: 11 × 3</caption>\n",
              "<thead>\n",
              "\t<tr><th></th><th scope=col>mpg</th><th scope=col>hp</th><th scope=col>wt</th></tr>\n",
              "\t<tr><th></th><th scope=col>&lt;dbl&gt;</th><th scope=col>&lt;dbl&gt;</th><th scope=col>&lt;dbl&gt;</th></tr>\n",
              "</thead>\n",
              "<tbody>\n",
              "\t<tr><th scope=row>Datsun 710</th><td>22.8</td><td> 93</td><td>2.320</td></tr>\n",
              "\t<tr><th scope=row>Merc 240D</th><td>24.4</td><td> 62</td><td>3.190</td></tr>\n",
              "\t<tr><th scope=row>Merc 230</th><td>22.8</td><td> 95</td><td>3.150</td></tr>\n",
              "\t<tr><th scope=row>Fiat 128</th><td>32.4</td><td> 66</td><td>2.200</td></tr>\n",
              "\t<tr><th scope=row>Honda Civic</th><td>30.4</td><td> 52</td><td>1.615</td></tr>\n",
              "\t<tr><th scope=row>Toyota Corolla</th><td>33.9</td><td> 65</td><td>1.835</td></tr>\n",
              "\t<tr><th scope=row>Toyota Corona</th><td>21.5</td><td> 97</td><td>2.465</td></tr>\n",
              "\t<tr><th scope=row>Fiat X1-9</th><td>27.3</td><td> 66</td><td>1.935</td></tr>\n",
              "\t<tr><th scope=row>Porsche 914-2</th><td>26.0</td><td> 91</td><td>2.140</td></tr>\n",
              "\t<tr><th scope=row>Lotus Europa</th><td>30.4</td><td>113</td><td>1.513</td></tr>\n",
              "\t<tr><th scope=row>Volvo 142E</th><td>21.4</td><td>109</td><td>2.780</td></tr>\n",
              "</tbody>\n",
              "</table>\n"
            ],
            "text/markdown": "\nA data.frame: 11 × 3\n\n| <!--/--> | mpg &lt;dbl&gt; | hp &lt;dbl&gt; | wt &lt;dbl&gt; |\n|---|---|---|---|\n| Datsun 710 | 22.8 |  93 | 2.320 |\n| Merc 240D | 24.4 |  62 | 3.190 |\n| Merc 230 | 22.8 |  95 | 3.150 |\n| Fiat 128 | 32.4 |  66 | 2.200 |\n| Honda Civic | 30.4 |  52 | 1.615 |\n| Toyota Corolla | 33.9 |  65 | 1.835 |\n| Toyota Corona | 21.5 |  97 | 2.465 |\n| Fiat X1-9 | 27.3 |  66 | 1.935 |\n| Porsche 914-2 | 26.0 |  91 | 2.140 |\n| Lotus Europa | 30.4 | 113 | 1.513 |\n| Volvo 142E | 21.4 | 109 | 2.780 |\n\n",
            "text/latex": "A data.frame: 11 × 3\n\\begin{tabular}{r|lll}\n  & mpg & hp & wt\\\\\n  & <dbl> & <dbl> & <dbl>\\\\\n\\hline\n\tDatsun 710 & 22.8 &  93 & 2.320\\\\\n\tMerc 240D & 24.4 &  62 & 3.190\\\\\n\tMerc 230 & 22.8 &  95 & 3.150\\\\\n\tFiat 128 & 32.4 &  66 & 2.200\\\\\n\tHonda Civic & 30.4 &  52 & 1.615\\\\\n\tToyota Corolla & 33.9 &  65 & 1.835\\\\\n\tToyota Corona & 21.5 &  97 & 2.465\\\\\n\tFiat X1-9 & 27.3 &  66 & 1.935\\\\\n\tPorsche 914-2 & 26.0 &  91 & 2.140\\\\\n\tLotus Europa & 30.4 & 113 & 1.513\\\\\n\tVolvo 142E & 21.4 & 109 & 2.780\\\\\n\\end{tabular}\n",
            "text/plain": [
              "               mpg  hp  wt   \n",
              "Datsun 710     22.8  93 2.320\n",
              "Merc 240D      24.4  62 3.190\n",
              "Merc 230       22.8  95 3.150\n",
              "Fiat 128       32.4  66 2.200\n",
              "Honda Civic    30.4  52 1.615\n",
              "Toyota Corolla 33.9  65 1.835\n",
              "Toyota Corona  21.5  97 2.465\n",
              "Fiat X1-9      27.3  66 1.935\n",
              "Porsche 914-2  26.0  91 2.140\n",
              "Lotus Europa   30.4 113 1.513\n",
              "Volvo 142E     21.4 109 2.780"
            ]
          },
          "metadata": {}
        }
      ]
    },
    {
      "cell_type": "code",
      "source": [
        "# 8.\tCreate a list my_list that contains three elements: a numeric vector (1, 2, 3), a character vector (“a”, “b”, “c”), and a matrix with 2 rows and 2 columns.\n",
        "my_list = list(\n",
        "  numbers = 1:3,\n",
        "  letters = c(\"a\", \"b\", \"c\"),\n",
        "  matrix = matrix(1:4, nrow = 2)\n",
        ")\n",
        "my_list"
      ],
      "metadata": {
        "colab": {
          "base_uri": "https://localhost:8080/",
          "height": 281
        },
        "id": "F29q-ra53dKB",
        "outputId": "e3788999-6a67-4b9b-d920-a640dbaa656e"
      },
      "execution_count": null,
      "outputs": [
        {
          "output_type": "display_data",
          "data": {
            "text/html": [
              "<dl>\n",
              "\t<dt>$numbers</dt>\n",
              "\t\t<dd><style>\n",
              ".list-inline {list-style: none; margin:0; padding: 0}\n",
              ".list-inline>li {display: inline-block}\n",
              ".list-inline>li:not(:last-child)::after {content: \"\\00b7\"; padding: 0 .5ex}\n",
              "</style>\n",
              "<ol class=list-inline><li>1</li><li>2</li><li>3</li></ol>\n",
              "</dd>\n",
              "\t<dt>$letters</dt>\n",
              "\t\t<dd><style>\n",
              ".list-inline {list-style: none; margin:0; padding: 0}\n",
              ".list-inline>li {display: inline-block}\n",
              ".list-inline>li:not(:last-child)::after {content: \"\\00b7\"; padding: 0 .5ex}\n",
              "</style>\n",
              "<ol class=list-inline><li>'a'</li><li>'b'</li><li>'c'</li></ol>\n",
              "</dd>\n",
              "\t<dt>$matrix</dt>\n",
              "\t\t<dd><table class=\"dataframe\">\n",
              "<caption>A matrix: 2 × 2 of type int</caption>\n",
              "<tbody>\n",
              "\t<tr><td>1</td><td>3</td></tr>\n",
              "\t<tr><td>2</td><td>4</td></tr>\n",
              "</tbody>\n",
              "</table>\n",
              "</dd>\n",
              "</dl>\n"
            ],
            "text/markdown": "$numbers\n:   1. 1\n2. 2\n3. 3\n\n\n\n$letters\n:   1. 'a'\n2. 'b'\n3. 'c'\n\n\n\n$matrix\n:   \nA matrix: 2 × 2 of type int\n\n| 1 | 3 |\n| 2 | 4 |\n\n\n\n\n",
            "text/latex": "\\begin{description}\n\\item[\\$numbers] \\begin{enumerate*}\n\\item 1\n\\item 2\n\\item 3\n\\end{enumerate*}\n\n\\item[\\$letters] \\begin{enumerate*}\n\\item 'a'\n\\item 'b'\n\\item 'c'\n\\end{enumerate*}\n\n\\item[\\$matrix] A matrix: 2 × 2 of type int\n\\begin{tabular}{ll}\n\t 1 & 3\\\\\n\t 2 & 4\\\\\n\\end{tabular}\n\n\\end{description}\n",
            "text/plain": [
              "$numbers\n",
              "[1] 1 2 3\n",
              "\n",
              "$letters\n",
              "[1] \"a\" \"b\" \"c\"\n",
              "\n",
              "$matrix\n",
              "     [,1] [,2]\n",
              "[1,]    1    3\n",
              "[2,]    2    4\n"
            ]
          },
          "metadata": {}
        }
      ]
    },
    {
      "cell_type": "code",
      "source": [
        "# 9.\tAdd a new element to my_list that is a logical vector (TRUE, FALSE).\n",
        "my_list[[length(my_list) + 1]] = c(TRUE, FALSE)\n",
        "my_list"
      ],
      "metadata": {
        "colab": {
          "base_uri": "https://localhost:8080/",
          "height": 351
        },
        "id": "cJJ5zDHU3dIV",
        "outputId": "44993bc2-4d6b-4565-deeb-cb559c1d16e0"
      },
      "execution_count": null,
      "outputs": [
        {
          "output_type": "display_data",
          "data": {
            "text/html": [
              "<dl>\n",
              "\t<dt>$numbers</dt>\n",
              "\t\t<dd><style>\n",
              ".list-inline {list-style: none; margin:0; padding: 0}\n",
              ".list-inline>li {display: inline-block}\n",
              ".list-inline>li:not(:last-child)::after {content: \"\\00b7\"; padding: 0 .5ex}\n",
              "</style>\n",
              "<ol class=list-inline><li>1</li><li>2</li><li>3</li></ol>\n",
              "</dd>\n",
              "\t<dt>$letters</dt>\n",
              "\t\t<dd><style>\n",
              ".list-inline {list-style: none; margin:0; padding: 0}\n",
              ".list-inline>li {display: inline-block}\n",
              ".list-inline>li:not(:last-child)::after {content: \"\\00b7\"; padding: 0 .5ex}\n",
              "</style>\n",
              "<ol class=list-inline><li>'a'</li><li>'b'</li><li>'c'</li></ol>\n",
              "</dd>\n",
              "\t<dt>$matrix</dt>\n",
              "\t\t<dd><table class=\"dataframe\">\n",
              "<caption>A matrix: 2 × 2 of type int</caption>\n",
              "<tbody>\n",
              "\t<tr><td>1</td><td>3</td></tr>\n",
              "\t<tr><td>2</td><td>4</td></tr>\n",
              "</tbody>\n",
              "</table>\n",
              "</dd>\n",
              "\t<dt>[[4]]</dt>\n",
              "\t\t<dd><style>\n",
              ".list-inline {list-style: none; margin:0; padding: 0}\n",
              ".list-inline>li {display: inline-block}\n",
              ".list-inline>li:not(:last-child)::after {content: \"\\00b7\"; padding: 0 .5ex}\n",
              "</style>\n",
              "<ol class=list-inline><li>TRUE</li><li>FALSE</li></ol>\n",
              "</dd>\n",
              "\t<dt>[[5]]</dt>\n",
              "\t\t<dd><style>\n",
              ".list-inline {list-style: none; margin:0; padding: 0}\n",
              ".list-inline>li {display: inline-block}\n",
              ".list-inline>li:not(:last-child)::after {content: \"\\00b7\"; padding: 0 .5ex}\n",
              "</style>\n",
              "<ol class=list-inline><li>TRUE</li><li>FALSE</li></ol>\n",
              "</dd>\n",
              "</dl>\n"
            ],
            "text/markdown": "$numbers\n:   1. 1\n2. 2\n3. 3\n\n\n\n$letters\n:   1. 'a'\n2. 'b'\n3. 'c'\n\n\n\n$matrix\n:   \nA matrix: 2 × 2 of type int\n\n| 1 | 3 |\n| 2 | 4 |\n\n\n[[4]]\n:   1. TRUE\n2. FALSE\n\n\n\n[[5]]\n:   1. TRUE\n2. FALSE\n\n\n\n\n\n",
            "text/latex": "\\begin{description}\n\\item[\\$numbers] \\begin{enumerate*}\n\\item 1\n\\item 2\n\\item 3\n\\end{enumerate*}\n\n\\item[\\$letters] \\begin{enumerate*}\n\\item 'a'\n\\item 'b'\n\\item 'c'\n\\end{enumerate*}\n\n\\item[\\$matrix] A matrix: 2 × 2 of type int\n\\begin{tabular}{ll}\n\t 1 & 3\\\\\n\t 2 & 4\\\\\n\\end{tabular}\n\n\\item[{[[4]]}] \\begin{enumerate*}\n\\item TRUE\n\\item FALSE\n\\end{enumerate*}\n\n\\item[{[[5]]}] \\begin{enumerate*}\n\\item TRUE\n\\item FALSE\n\\end{enumerate*}\n\n\\end{description}\n",
            "text/plain": [
              "$numbers\n",
              "[1] 1 2 3\n",
              "\n",
              "$letters\n",
              "[1] \"a\" \"b\" \"c\"\n",
              "\n",
              "$matrix\n",
              "     [,1] [,2]\n",
              "[1,]    1    3\n",
              "[2,]    2    4\n",
              "\n",
              "[[4]]\n",
              "[1]  TRUE FALSE\n",
              "\n",
              "[[5]]\n",
              "[1]  TRUE FALSE\n"
            ]
          },
          "metadata": {}
        }
      ]
    },
    {
      "cell_type": "code",
      "source": [
        "# 10.\tCreate character vector words with the elements “R”, “is”, “fun”.\n",
        "\n",
        "words = c(\"R\", \"is\", \"fun\")\n",
        "words"
      ],
      "metadata": {
        "colab": {
          "base_uri": "https://localhost:8080/",
          "height": 34
        },
        "id": "DIbzuM8-3dGL",
        "outputId": "9df533ac-d006-4a38-e14e-72ddbf26c487"
      },
      "execution_count": null,
      "outputs": [
        {
          "output_type": "display_data",
          "data": {
            "text/html": [
              "<style>\n",
              ".list-inline {list-style: none; margin:0; padding: 0}\n",
              ".list-inline>li {display: inline-block}\n",
              ".list-inline>li:not(:last-child)::after {content: \"\\00b7\"; padding: 0 .5ex}\n",
              "</style>\n",
              "<ol class=list-inline><li>'R'</li><li>'is'</li><li>'fun'</li></ol>\n"
            ],
            "text/markdown": "1. 'R'\n2. 'is'\n3. 'fun'\n\n\n",
            "text/latex": "\\begin{enumerate*}\n\\item 'R'\n\\item 'is'\n\\item 'fun'\n\\end{enumerate*}\n",
            "text/plain": [
              "[1] \"R\"   \"is\"  \"fun\""
            ]
          },
          "metadata": {}
        }
      ]
    },
    {
      "cell_type": "code",
      "source": [
        "# 11.\tUse a function to concatenate these words into a single string: “R is fun”.\n",
        "sentence = paste(words, collapse = \" \")\n",
        "sentence"
      ],
      "metadata": {
        "colab": {
          "base_uri": "https://localhost:8080/",
          "height": 34
        },
        "id": "PaSm160D3dB8",
        "outputId": "c570e292-b7f5-4949-e97b-394c41d18955"
      },
      "execution_count": null,
      "outputs": [
        {
          "output_type": "display_data",
          "data": {
            "text/html": [
              "'R is fun'"
            ],
            "text/markdown": "'R is fun'",
            "text/latex": "'R is fun'",
            "text/plain": [
              "[1] \"R is fun\""
            ]
          },
          "metadata": {}
        }
      ]
    },
    {
      "cell_type": "code",
      "source": [
        "# 12.\tReplace “fun” with “awesome” in the concatenated string.\n",
        "new_sentence = gsub(\"fun\", \"awesome\", sentence)\n",
        "new_sentence"
      ],
      "metadata": {
        "colab": {
          "base_uri": "https://localhost:8080/",
          "height": 34
        },
        "id": "sAKW2wYS3dAL",
        "outputId": "1d60e913-d9c3-4ef0-e9d6-aa661c48f6fc"
      },
      "execution_count": null,
      "outputs": [
        {
          "output_type": "display_data",
          "data": {
            "text/html": [
              "'R is awesome'"
            ],
            "text/markdown": "'R is awesome'",
            "text/latex": "'R is awesome'",
            "text/plain": [
              "[1] \"R is awesome\""
            ]
          },
          "metadata": {}
        }
      ]
    },
    {
      "cell_type": "code",
      "source": [
        "# 13.\tFrom a numeric vector to a character vector: v_num = c(1, 2, 3)\n",
        "v_num=c(1,2,3)\n",
        "char=as.character(v_num)\n",
        "char\n",
        "typeof(char)"
      ],
      "metadata": {
        "colab": {
          "base_uri": "https://localhost:8080/",
          "height": 52
        },
        "id": "K5t3xO6aBIt0",
        "outputId": "16d6e2dd-da0c-48b1-df3f-d78c8ce63d35"
      },
      "execution_count": null,
      "outputs": [
        {
          "output_type": "display_data",
          "data": {
            "text/html": [
              "<style>\n",
              ".list-inline {list-style: none; margin:0; padding: 0}\n",
              ".list-inline>li {display: inline-block}\n",
              ".list-inline>li:not(:last-child)::after {content: \"\\00b7\"; padding: 0 .5ex}\n",
              "</style>\n",
              "<ol class=list-inline><li>'1'</li><li>'2'</li><li>'3'</li></ol>\n"
            ],
            "text/markdown": "1. '1'\n2. '2'\n3. '3'\n\n\n",
            "text/latex": "\\begin{enumerate*}\n\\item '1'\n\\item '2'\n\\item '3'\n\\end{enumerate*}\n",
            "text/plain": [
              "[1] \"1\" \"2\" \"3\""
            ]
          },
          "metadata": {}
        },
        {
          "output_type": "display_data",
          "data": {
            "text/html": [
              "'character'"
            ],
            "text/markdown": "'character'",
            "text/latex": "'character'",
            "text/plain": [
              "[1] \"character\""
            ]
          },
          "metadata": {}
        }
      ]
    },
    {
      "cell_type": "code",
      "source": [
        "# 14.\tFrom a character vector to a factor: v_char = c(\"low\", \"medium\", \"high\")\n",
        "v_char = c(\"low\", \"medium\", \"high\")\n",
        "fact=factor(v_char)\n",
        "fact\n",
        "typeof(fact)"
      ],
      "metadata": {
        "colab": {
          "base_uri": "https://localhost:8080/",
          "height": 86
        },
        "id": "Eci-U_QjBIqV",
        "outputId": "33f65bcf-f893-4d75-b031-ee271519a507"
      },
      "execution_count": null,
      "outputs": [
        {
          "output_type": "display_data",
          "data": {
            "text/html": [
              "<style>\n",
              ".list-inline {list-style: none; margin:0; padding: 0}\n",
              ".list-inline>li {display: inline-block}\n",
              ".list-inline>li:not(:last-child)::after {content: \"\\00b7\"; padding: 0 .5ex}\n",
              "</style>\n",
              "<ol class=list-inline><li>low</li><li>medium</li><li>high</li></ol>\n",
              "\n",
              "<details>\n",
              "\t<summary style=display:list-item;cursor:pointer>\n",
              "\t\t<strong>Levels</strong>:\n",
              "\t</summary>\n",
              "\t<style>\n",
              "\t.list-inline {list-style: none; margin:0; padding: 0}\n",
              "\t.list-inline>li {display: inline-block}\n",
              "\t.list-inline>li:not(:last-child)::after {content: \"\\00b7\"; padding: 0 .5ex}\n",
              "\t</style>\n",
              "\t<ol class=list-inline><li>'high'</li><li>'low'</li><li>'medium'</li></ol>\n",
              "</details>"
            ],
            "text/markdown": "1. low\n2. medium\n3. high\n\n\n\n**Levels**: 1. 'high'\n2. 'low'\n3. 'medium'\n\n\n",
            "text/latex": "\\begin{enumerate*}\n\\item low\n\\item medium\n\\item high\n\\end{enumerate*}\n\n\\emph{Levels}: \\begin{enumerate*}\n\\item 'high'\n\\item 'low'\n\\item 'medium'\n\\end{enumerate*}\n",
            "text/plain": [
              "[1] low    medium high  \n",
              "Levels: high low medium"
            ]
          },
          "metadata": {}
        },
        {
          "output_type": "display_data",
          "data": {
            "text/html": [
              "'integer'"
            ],
            "text/markdown": "'integer'",
            "text/latex": "'integer'",
            "text/plain": [
              "[1] \"integer\""
            ]
          },
          "metadata": {}
        }
      ]
    },
    {
      "cell_type": "code",
      "source": [
        "# 15.\tFrom a factor to a numeric vector, considering the factor levels as numeric values:\n",
        "f = factor(c(1, 2, 3))\n",
        "numer=as.numeric(f)\n",
        "numer\n",
        "typeof(numer)\n"
      ],
      "metadata": {
        "colab": {
          "base_uri": "https://localhost:8080/",
          "height": 52
        },
        "id": "AoFJ4alyBIoX",
        "outputId": "a348e2d8-8ab9-4d87-ddcf-e4afe33fd254"
      },
      "execution_count": null,
      "outputs": [
        {
          "output_type": "display_data",
          "data": {
            "text/html": [
              "<style>\n",
              ".list-inline {list-style: none; margin:0; padding: 0}\n",
              ".list-inline>li {display: inline-block}\n",
              ".list-inline>li:not(:last-child)::after {content: \"\\00b7\"; padding: 0 .5ex}\n",
              "</style>\n",
              "<ol class=list-inline><li>1</li><li>2</li><li>3</li></ol>\n"
            ],
            "text/markdown": "1. 1\n2. 2\n3. 3\n\n\n",
            "text/latex": "\\begin{enumerate*}\n\\item 1\n\\item 2\n\\item 3\n\\end{enumerate*}\n",
            "text/plain": [
              "[1] 1 2 3"
            ]
          },
          "metadata": {}
        },
        {
          "output_type": "display_data",
          "data": {
            "text/html": [
              "'double'"
            ],
            "text/markdown": "'double'",
            "text/latex": "'double'",
            "text/plain": [
              "[1] \"double\""
            ]
          },
          "metadata": {}
        }
      ]
    },
    {
      "cell_type": "code",
      "source": [
        "# 16.\tcolors = c(“red”, “blue”, “green”, “blue”, “red”, “green”, “green”, “red”)\n",
        "# 1.\tConvert colors into a factor, f_colors.\n",
        "# 2.\tPrint the levels of f_colors.\n",
        "# 3.\tHow would you reorder the levels of f_colors so that “green” comes first?\n",
        "\n",
        "colors = c(\"red\", \"blue\", \"green\", \"blue\", \"red\", \"green\", \"green\", \"red\")\n",
        "f_colors = factor(colors)\n",
        "\n",
        "# Levels\n",
        "levels(f_colors)\n",
        "\n",
        "# Reordering levels\n",
        "f_colors = factor(colors, levels = c(\"green\", \"red\", \"blue\"))\n",
        "levels(f_colors)\n"
      ],
      "metadata": {
        "colab": {
          "base_uri": "https://localhost:8080/",
          "height": 52
        },
        "id": "VOBdYcokBImb",
        "outputId": "156b85d2-ad6a-47d5-8ab9-754b6bb8a3a8"
      },
      "execution_count": null,
      "outputs": [
        {
          "output_type": "display_data",
          "data": {
            "text/html": [
              "<style>\n",
              ".list-inline {list-style: none; margin:0; padding: 0}\n",
              ".list-inline>li {display: inline-block}\n",
              ".list-inline>li:not(:last-child)::after {content: \"\\00b7\"; padding: 0 .5ex}\n",
              "</style>\n",
              "<ol class=list-inline><li>'blue'</li><li>'green'</li><li>'red'</li></ol>\n"
            ],
            "text/markdown": "1. 'blue'\n2. 'green'\n3. 'red'\n\n\n",
            "text/latex": "\\begin{enumerate*}\n\\item 'blue'\n\\item 'green'\n\\item 'red'\n\\end{enumerate*}\n",
            "text/plain": [
              "[1] \"blue\"  \"green\" \"red\"  "
            ]
          },
          "metadata": {}
        },
        {
          "output_type": "display_data",
          "data": {
            "text/html": [
              "<style>\n",
              ".list-inline {list-style: none; margin:0; padding: 0}\n",
              ".list-inline>li {display: inline-block}\n",
              ".list-inline>li:not(:last-child)::after {content: \"\\00b7\"; padding: 0 .5ex}\n",
              "</style>\n",
              "<ol class=list-inline><li>'green'</li><li>'red'</li><li>'blue'</li></ol>\n"
            ],
            "text/markdown": "1. 'green'\n2. 'red'\n3. 'blue'\n\n\n",
            "text/latex": "\\begin{enumerate*}\n\\item 'green'\n\\item 'red'\n\\item 'blue'\n\\end{enumerate*}\n",
            "text/plain": [
              "[1] \"green\" \"red\"   \"blue\" "
            ]
          },
          "metadata": {}
        }
      ]
    },
    {
      "cell_type": "code",
      "source": [
        "# 17.\tmy_list = list(name = “Alice”, age = 30, hobbies = c(“Cycling”, “Art”, “Music”)) my_df = data.frame(Name = c(“Alice”, “Bob”), Age = c(25, 30))\n",
        "# 1.\tAccess and print the hobbies element from my_list.\n",
        "# 2.\tAdd a new column Occupation to my_df with values “Doctor” for Alice and “Engineer” for Bob.\n",
        "\n",
        "my_list = list(name = 'Alice', age = 30, hobbies = c('Cycling', 'Art', 'Music'))\n",
        "my_df = data.frame(Name = c('Alice', 'Bob'), Age = c(25, 30))\n",
        "\n",
        "# Access hobbies\n",
        "cat(\"Hobbies:\", my_list$hobbies, \"\\n\")\n",
        "\n",
        "# Add Occupation column\n",
        "my_df$Occupation = c(\"Doctor\", \"Engineer\")\n",
        "my_df$Occupation\n",
        "my_df\n",
        "\n",
        "\n"
      ],
      "metadata": {
        "colab": {
          "base_uri": "https://localhost:8080/",
          "height": 196
        },
        "id": "9R9vWOLnBIkZ",
        "outputId": "a9d9a2ce-cf0e-4b87-90b4-3f4df5788ac1"
      },
      "execution_count": null,
      "outputs": [
        {
          "output_type": "stream",
          "name": "stdout",
          "text": [
            "Hobbies: Cycling Art Music \n"
          ]
        },
        {
          "output_type": "display_data",
          "data": {
            "text/html": [
              "<style>\n",
              ".list-inline {list-style: none; margin:0; padding: 0}\n",
              ".list-inline>li {display: inline-block}\n",
              ".list-inline>li:not(:last-child)::after {content: \"\\00b7\"; padding: 0 .5ex}\n",
              "</style>\n",
              "<ol class=list-inline><li>'Doctor'</li><li>'Engineer'</li></ol>\n"
            ],
            "text/markdown": "1. 'Doctor'\n2. 'Engineer'\n\n\n",
            "text/latex": "\\begin{enumerate*}\n\\item 'Doctor'\n\\item 'Engineer'\n\\end{enumerate*}\n",
            "text/plain": [
              "[1] \"Doctor\"   \"Engineer\""
            ]
          },
          "metadata": {}
        },
        {
          "output_type": "display_data",
          "data": {
            "text/html": [
              "<table class=\"dataframe\">\n",
              "<caption>A data.frame: 2 × 3</caption>\n",
              "<thead>\n",
              "\t<tr><th scope=col>Name</th><th scope=col>Age</th><th scope=col>Occupation</th></tr>\n",
              "\t<tr><th scope=col>&lt;chr&gt;</th><th scope=col>&lt;dbl&gt;</th><th scope=col>&lt;chr&gt;</th></tr>\n",
              "</thead>\n",
              "<tbody>\n",
              "\t<tr><td>Alice</td><td>25</td><td>Doctor  </td></tr>\n",
              "\t<tr><td>Bob  </td><td>30</td><td>Engineer</td></tr>\n",
              "</tbody>\n",
              "</table>\n"
            ],
            "text/markdown": "\nA data.frame: 2 × 3\n\n| Name &lt;chr&gt; | Age &lt;dbl&gt; | Occupation &lt;chr&gt; |\n|---|---|---|\n| Alice | 25 | Doctor   |\n| Bob   | 30 | Engineer |\n\n",
            "text/latex": "A data.frame: 2 × 3\n\\begin{tabular}{lll}\n Name & Age & Occupation\\\\\n <chr> & <dbl> & <chr>\\\\\n\\hline\n\t Alice & 25 & Doctor  \\\\\n\t Bob   & 30 & Engineer\\\\\n\\end{tabular}\n",
            "text/plain": [
              "  Name  Age Occupation\n",
              "1 Alice 25  Doctor    \n",
              "2 Bob   30  Engineer  "
            ]
          },
          "metadata": {}
        }
      ]
    }
  ]
}